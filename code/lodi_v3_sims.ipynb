{
 "cells": [
  {
   "cell_type": "code",
   "execution_count": 1,
   "metadata": {},
   "outputs": [
    {
     "name": "stdout",
     "output_type": "stream",
     "text": [
      "Detected IPython. Loading juliacall extension. See https://juliapy.github.io/PythonCall.jl/stable/compat/#IPython\n"
     ]
    }
   ],
   "source": [
    "# import libraries\n",
    "import pandas as pd\n",
    "import scipy.stats\n",
    "import statsmodels.stats.multitest\n",
    "import matplotlib.pyplot as plt\n",
    "import seaborn as sns\n",
    "import numpy as np\n",
    "import glob\n",
    "\n",
    "# disable warnings, use w caution\n",
    "import warnings\n",
    "warnings.filterwarnings('ignore')\n",
    "\n",
    "# project specific libs\n",
    "import os\n",
    "import matplotlib.pyplot as plt\n",
    "import pickle\n",
    "from sklearn.metrics.cluster import v_measure_score\n",
    "import re\n",
    "from pysr import PySRRegressor\n",
    "import sympy\n",
    "from collections import Counter\n"
   ]
  },
  {
   "cell_type": "code",
   "execution_count": 2,
   "metadata": {},
   "outputs": [],
   "source": [
    "# set wd\n",
    "path = '/Users/KevinBu/Desktop/clemente_lab/Projects/iclust_paper/'"
   ]
  },
  {
   "cell_type": "code",
   "execution_count": 3,
   "metadata": {},
   "outputs": [
    {
     "data": {
      "text/html": [
       "<div>\n",
       "<style scoped>\n",
       "    .dataframe tbody tr th:only-of-type {\n",
       "        vertical-align: middle;\n",
       "    }\n",
       "\n",
       "    .dataframe tbody tr th {\n",
       "        vertical-align: top;\n",
       "    }\n",
       "\n",
       "    .dataframe thead th {\n",
       "        text-align: right;\n",
       "    }\n",
       "</style>\n",
       "<table border=\"1\" class=\"dataframe\">\n",
       "  <thead>\n",
       "    <tr style=\"text-align: right;\">\n",
       "      <th></th>\n",
       "      <th>X</th>\n",
       "      <th>Y</th>\n",
       "      <th>func</th>\n",
       "      <th>noise</th>\n",
       "      <th>original_trajectory</th>\n",
       "    </tr>\n",
       "    <tr>\n",
       "      <th>ID</th>\n",
       "      <th></th>\n",
       "      <th></th>\n",
       "      <th></th>\n",
       "      <th></th>\n",
       "      <th></th>\n",
       "    </tr>\n",
       "  </thead>\n",
       "  <tbody>\n",
       "    <tr>\n",
       "      <th>307259</th>\n",
       "      <td>0,1,2,3,4,5,6,7,8,9,10,11,12,13,14,15,16,17,18,19</td>\n",
       "      <td>10.6997007997,6.98366939035,11.014612357,9.580...</td>\n",
       "      <td>norm</td>\n",
       "      <td>0.2</td>\n",
       "      <td>264000</td>\n",
       "    </tr>\n",
       "    <tr>\n",
       "      <th>307566</th>\n",
       "      <td>0,1,2,3,4,5,6,7,8,9,10,11,12,13,14,15,16,17,18,19</td>\n",
       "      <td>17.1160511085,15.9467079771,18.2979644231,19.6...</td>\n",
       "      <td>norm</td>\n",
       "      <td>0.2</td>\n",
       "      <td>264000</td>\n",
       "    </tr>\n",
       "    <tr>\n",
       "      <th>307521</th>\n",
       "      <td>0,1,2,3,4,5,6,7,8,9,10,11,12,13,14,15,16,17,18,19</td>\n",
       "      <td>-9.96959751341,-9.82405292537,-10.9954914071,-...</td>\n",
       "      <td>norm</td>\n",
       "      <td>0.2</td>\n",
       "      <td>264000</td>\n",
       "    </tr>\n",
       "    <tr>\n",
       "      <th>306593</th>\n",
       "      <td>0,1,2,3,4,5,6,7,8,9,10,11,12,13,14,15,16,17,18,19</td>\n",
       "      <td>2.13646729095,5.72510583249,3.54819407662,5.43...</td>\n",
       "      <td>norm</td>\n",
       "      <td>0.2</td>\n",
       "      <td>264000</td>\n",
       "    </tr>\n",
       "    <tr>\n",
       "      <th>394587</th>\n",
       "      <td>0,1,2,3,4,5,6,7,8,9,10,11,12,13,14,15,16,17,18,19</td>\n",
       "      <td>142.648383524,143.710018495,145.56799897,141.1...</td>\n",
       "      <td>sin</td>\n",
       "      <td>0.2</td>\n",
       "      <td>352000</td>\n",
       "    </tr>\n",
       "  </tbody>\n",
       "</table>\n",
       "</div>"
      ],
      "text/plain": [
       "                                                        X  \\\n",
       "ID                                                          \n",
       "307259  0,1,2,3,4,5,6,7,8,9,10,11,12,13,14,15,16,17,18,19   \n",
       "307566  0,1,2,3,4,5,6,7,8,9,10,11,12,13,14,15,16,17,18,19   \n",
       "307521  0,1,2,3,4,5,6,7,8,9,10,11,12,13,14,15,16,17,18,19   \n",
       "306593  0,1,2,3,4,5,6,7,8,9,10,11,12,13,14,15,16,17,18,19   \n",
       "394587  0,1,2,3,4,5,6,7,8,9,10,11,12,13,14,15,16,17,18,19   \n",
       "\n",
       "                                                        Y  func  noise  \\\n",
       "ID                                                                       \n",
       "307259  10.6997007997,6.98366939035,11.014612357,9.580...  norm    0.2   \n",
       "307566  17.1160511085,15.9467079771,18.2979644231,19.6...  norm    0.2   \n",
       "307521  -9.96959751341,-9.82405292537,-10.9954914071,-...  norm    0.2   \n",
       "306593  2.13646729095,5.72510583249,3.54819407662,5.43...  norm    0.2   \n",
       "394587  142.648383524,143.710018495,145.56799897,141.1...   sin    0.2   \n",
       "\n",
       "        original_trajectory  \n",
       "ID                           \n",
       "307259               264000  \n",
       "307566               264000  \n",
       "307521               264000  \n",
       "306593               264000  \n",
       "394587               352000  "
      ]
     },
     "execution_count": 3,
     "metadata": {},
     "output_type": "execute_result"
    }
   ],
   "source": [
    "# get input traj\n",
    "noises = ['0.0', '0.04', '0.08', '0.12', '0.16', '0.2']\n",
    "reps = [str(x) for x in range(10)]\n",
    "\n",
    "noise_to_rep = {}\n",
    "\n",
    "for n in noises:\n",
    "    noise_to_rep[n] = {}\n",
    "    for r in reps:\n",
    "        df_traj = pd.read_csv(path + 'inputs/loclust_sims/' + n + 'noise.exponential-growth-hyperbolic-linear-norm-poly-scurve-sin-tan.200reps.' + r + '.tsv', sep='\\t', index_col=0)\n",
    "\n",
    "        # grab first 4 instances per traj instead of 200\n",
    "        df_traj = df_traj.groupby('func').head(4)\n",
    "\n",
    "        # convert input traj file to one singular df \n",
    "        # use X values as the index\n",
    "        X = df_traj.X.values\n",
    "        X = [[float(i) for i in x.split(',')] for x in X]\n",
    "        X = [item for sublist in X for item in sublist]\n",
    "        X = sorted(set(X))\n",
    "        \n",
    "        # create df from dict\n",
    "        input = {}\n",
    "        input['t'] = X\n",
    "        df_input = pd.DataFrame.from_dict(input)\n",
    "        df_input = df_input.set_index('t')\n",
    "        \n",
    "        # iterate through each row column pair\n",
    "        df_data = df_traj.loc[:,['X','Y']]\n",
    "        for index in df_data.index:\n",
    "            row = df_data.loc[index]\n",
    "            X = [float(i) for i in row['X'].split(',')]\n",
    "            Y = [float(i) for i in row['Y'].split(',')]\n",
    "            new_df = pd.DataFrame({'t': X, index: Y})\n",
    "            new_df = new_df.set_index('t')\n",
    "            \n",
    "            df_input = pd.concat([df_input, new_df], axis=1)\n",
    "        \n",
    "        df_input = df_input.reset_index()\n",
    "        df_input.iloc[:,0:5].to_csv(path + 'inputs/iclust_loclust_sims/df_sim_test_' + n + '_' + r + '.tsv', sep='\\t')\n",
    "        df_input.to_csv(path + 'inputs/iclust_loclust_sims/df_sim_' + n + '_' + r + '.tsv', sep='\\t')\n",
    "        df_input.columns = df_input.columns.astype(str)\n",
    "        noise_to_rep[n][r] = df_input\n",
    "\n",
    "df_traj.head()"
   ]
  },
  {
   "cell_type": "code",
   "execution_count": 5,
   "metadata": {},
   "outputs": [
    {
     "data": {
      "text/html": [
       "<div>\n",
       "<style scoped>\n",
       "    .dataframe tbody tr th:only-of-type {\n",
       "        vertical-align: middle;\n",
       "    }\n",
       "\n",
       "    .dataframe tbody tr th {\n",
       "        vertical-align: top;\n",
       "    }\n",
       "\n",
       "    .dataframe thead th {\n",
       "        text-align: right;\n",
       "    }\n",
       "</style>\n",
       "<table border=\"1\" class=\"dataframe\">\n",
       "  <thead>\n",
       "    <tr style=\"text-align: right;\">\n",
       "      <th></th>\n",
       "      <th>tool</th>\n",
       "      <th>num_gen_functions</th>\n",
       "      <th>rep_num</th>\n",
       "      <th>noise_level</th>\n",
       "      <th>v_measure_score</th>\n",
       "      <th>filename</th>\n",
       "    </tr>\n",
       "  </thead>\n",
       "  <tbody>\n",
       "    <tr>\n",
       "      <th>/sc/arion/projects/clemej05a/hilary/loclust_tool_comp/loclust_outputs/8/9/exponential-growth-hyperbolic-linear-norm-poly-scurve-sin-tan.16noise.2/0.16noise.exponential-growth-hyperbolic-linear-norm-poly-scurve-sin-tan.200reps.2_loclust_fa.tsv</th>\n",
       "      <td>loclust_fa</td>\n",
       "      <td>9</td>\n",
       "      <td>2</td>\n",
       "      <td>0.16</td>\n",
       "      <td>0.810207</td>\n",
       "      <td>NaN</td>\n",
       "    </tr>\n",
       "    <tr>\n",
       "      <th>/sc/arion/projects/clemej05a/hilary/loclust_tool_comp/loclust_outputs/8/9/exponential-growth-hyperbolic-linear-norm-poly-scurve-sin-tan.16noise.2/0.16noise.exponential-growth-hyperbolic-linear-norm-poly-scurve-sin-tan.200reps.2_loclust_3pca.tsv</th>\n",
       "      <td>loclust_3pca</td>\n",
       "      <td>9</td>\n",
       "      <td>2</td>\n",
       "      <td>0.16</td>\n",
       "      <td>0.820900</td>\n",
       "      <td>NaN</td>\n",
       "    </tr>\n",
       "    <tr>\n",
       "      <th>/sc/arion/projects/clemej05a/hilary/loclust_tool_comp/loclust_outputs/8/9/exponential-growth-hyperbolic-linear-norm-poly-scurve-sin-tan.04noise.2/0.04noise.exponential-growth-hyperbolic-linear-norm-poly-scurve-sin-tan.200reps.2_loclust_3pca.tsv</th>\n",
       "      <td>loclust_3pca</td>\n",
       "      <td>9</td>\n",
       "      <td>2</td>\n",
       "      <td>0.04</td>\n",
       "      <td>0.856046</td>\n",
       "      <td>NaN</td>\n",
       "    </tr>\n",
       "    <tr>\n",
       "      <th>/sc/arion/projects/clemej05a/hilary/loclust_tool_comp/loclust_outputs/8/9/exponential-growth-hyperbolic-linear-norm-poly-scurve-sin-tan.04noise.2/0.04noise.exponential-growth-hyperbolic-linear-norm-poly-scurve-sin-tan.200reps.2_loclust_fa.tsv</th>\n",
       "      <td>loclust_fa</td>\n",
       "      <td>9</td>\n",
       "      <td>2</td>\n",
       "      <td>0.04</td>\n",
       "      <td>0.863549</td>\n",
       "      <td>NaN</td>\n",
       "    </tr>\n",
       "    <tr>\n",
       "      <th>/sc/arion/projects/clemej05a/hilary/loclust_tool_comp/loclust_outputs/8/9/exponential-growth-hyperbolic-linear-norm-poly-scurve-sin-tan.04noise.6/0.04noise.exponential-growth-hyperbolic-linear-norm-poly-scurve-sin-tan.200reps.6_loclust_3pca.tsv</th>\n",
       "      <td>loclust_3pca</td>\n",
       "      <td>9</td>\n",
       "      <td>6</td>\n",
       "      <td>0.04</td>\n",
       "      <td>0.847005</td>\n",
       "      <td>NaN</td>\n",
       "    </tr>\n",
       "  </tbody>\n",
       "</table>\n",
       "</div>"
      ],
      "text/plain": [
       "                                                            tool  \\\n",
       "/sc/arion/projects/clemej05a/hilary/loclust_too...    loclust_fa   \n",
       "/sc/arion/projects/clemej05a/hilary/loclust_too...  loclust_3pca   \n",
       "/sc/arion/projects/clemej05a/hilary/loclust_too...  loclust_3pca   \n",
       "/sc/arion/projects/clemej05a/hilary/loclust_too...    loclust_fa   \n",
       "/sc/arion/projects/clemej05a/hilary/loclust_too...  loclust_3pca   \n",
       "\n",
       "                                                    num_gen_functions rep_num  \\\n",
       "/sc/arion/projects/clemej05a/hilary/loclust_too...                  9       2   \n",
       "/sc/arion/projects/clemej05a/hilary/loclust_too...                  9       2   \n",
       "/sc/arion/projects/clemej05a/hilary/loclust_too...                  9       2   \n",
       "/sc/arion/projects/clemej05a/hilary/loclust_too...                  9       2   \n",
       "/sc/arion/projects/clemej05a/hilary/loclust_too...                  9       6   \n",
       "\n",
       "                                                   noise_level  \\\n",
       "/sc/arion/projects/clemej05a/hilary/loclust_too...        0.16   \n",
       "/sc/arion/projects/clemej05a/hilary/loclust_too...        0.16   \n",
       "/sc/arion/projects/clemej05a/hilary/loclust_too...        0.04   \n",
       "/sc/arion/projects/clemej05a/hilary/loclust_too...        0.04   \n",
       "/sc/arion/projects/clemej05a/hilary/loclust_too...        0.04   \n",
       "\n",
       "                                                    v_measure_score filename  \n",
       "/sc/arion/projects/clemej05a/hilary/loclust_too...         0.810207      NaN  \n",
       "/sc/arion/projects/clemej05a/hilary/loclust_too...         0.820900      NaN  \n",
       "/sc/arion/projects/clemej05a/hilary/loclust_too...         0.856046      NaN  \n",
       "/sc/arion/projects/clemej05a/hilary/loclust_too...         0.863549      NaN  \n",
       "/sc/arion/projects/clemej05a/hilary/loclust_too...         0.847005      NaN  "
      ]
     },
     "execution_count": 5,
     "metadata": {},
     "output_type": "execute_result"
    }
   ],
   "source": [
    "# grab the vms results and compare what we have\n",
    "df_vms = pd.read_csv(path + 'outputs/jobs86/v-measure_results_loclust.kml.kmlShape.traj.dtw.dbagak.pic.963.tsv', sep='\\t', index_col=0)\n",
    "\n",
    "# subset on 9 functions\n",
    "df_vms = df_vms[df_vms['num_gen_functions'] == 9]\n",
    "\n",
    "# parse results\n",
    "for n in noises:\n",
    "    for r in reps:\n",
    "        # get cluster assignments\n",
    "        fn = path + 'outputs/jobs87_pca_fix9/results/sim_' + n + '_' + r + '/iclust/nn_imgtocluster.pk'\n",
    "        with open(fn, 'rb') as f:  # 'rb' stands for read binary\n",
    "            unpacked_object = pickle.load(f)\n",
    "        \n",
    "        df = pd.DataFrame(list(unpacked_object.items()), columns=['image', 'cluster'])\n",
    "        # fn is sims_5_0_0.396.jpg\n",
    "        # map 0-3 to one cluster, etc\n",
    "        df['image'] = df['image'].apply(lambda x: x.split('_')[3])\n",
    "        df['image'] = df['image'].apply(lambda x: int((int(x)-1)/4))\n",
    "        \n",
    "        from sklearn.metrics.cluster import v_measure_score\n",
    "        \n",
    "        # Compute the V-measure score\n",
    "        vms = v_measure_score(df.image.values, df.cluster.values)\n",
    "        \n",
    "        new_row = pd.DataFrame({'filename': [fn], 'tool': ['iclust'], \n",
    "                                'num_gen_functions': [9], 'rep_num': [r], \n",
    "                                'noise_level': [n], 'v_measure_score': [vms]})#, index=pd.Index([], name='filename'))\n",
    "        df_vms = pd.concat([df_vms, new_row], axis=0)\n",
    "\n",
    "df_vms.head()"
   ]
  },
  {
   "cell_type": "code",
   "execution_count": 6,
   "metadata": {},
   "outputs": [
    {
     "data": {
      "image/png": "[encoded data removed]",
      "text/plain": [
       "<Figure size 640x480 with 1 Axes>"
      ]
     },
     "metadata": {},
     "output_type": "display_data"
    }
   ],
   "source": [
    "sns.lineplot(data=df_vms, x='noise_level', y='v_measure_score', hue='tool')\n",
    "sns.despine()\n",
    "plt.tight_layout()\n"
   ]
  },
  {
   "cell_type": "code",
   "execution_count": 7,
   "metadata": {},
   "outputs": [
    {
     "data": {
      "text/html": [
       "<div>\n",
       "<style scoped>\n",
       "    .dataframe tbody tr th:only-of-type {\n",
       "        vertical-align: middle;\n",
       "    }\n",
       "\n",
       "    .dataframe tbody tr th {\n",
       "        vertical-align: top;\n",
       "    }\n",
       "\n",
       "    .dataframe thead th {\n",
       "        text-align: right;\n",
       "    }\n",
       "</style>\n",
       "<table border=\"1\" class=\"dataframe\">\n",
       "  <thead>\n",
       "    <tr style=\"text-align: right;\">\n",
       "      <th></th>\n",
       "      <th>tool</th>\n",
       "      <th>num_gen_functions</th>\n",
       "      <th>rep_num</th>\n",
       "      <th>noise_level</th>\n",
       "      <th>v_measure_score</th>\n",
       "      <th>filename</th>\n",
       "    </tr>\n",
       "  </thead>\n",
       "  <tbody>\n",
       "    <tr>\n",
       "      <th>/sc/arion/projects/clemej05a/hilary/loclust_tool_comp/loclust_outputs/8/6/exponential-growth-linear-norm-poly-tan.16noise.5/0.16noise.exponential-growth-linear-norm-poly-tan.200reps.5_loclust_fa.tsv</th>\n",
       "      <td>loclust_fa</td>\n",
       "      <td>6</td>\n",
       "      <td>5</td>\n",
       "      <td>0.16</td>\n",
       "      <td>0.902575</td>\n",
       "      <td>NaN</td>\n",
       "    </tr>\n",
       "    <tr>\n",
       "      <th>/sc/arion/projects/clemej05a/hilary/loclust_tool_comp/loclust_outputs/8/6/exponential-growth-linear-norm-poly-tan.16noise.5/0.16noise.exponential-growth-linear-norm-poly-tan.200reps.5_loclust_3pca.tsv</th>\n",
       "      <td>loclust_3pca</td>\n",
       "      <td>6</td>\n",
       "      <td>5</td>\n",
       "      <td>0.16</td>\n",
       "      <td>0.782183</td>\n",
       "      <td>NaN</td>\n",
       "    </tr>\n",
       "    <tr>\n",
       "      <th>/sc/arion/projects/clemej05a/hilary/loclust_tool_comp/loclust_outputs/8/6/exponential-growth-linear-poly-sin-tan.12noise.5/0.12noise.exponential-growth-linear-poly-sin-tan.200reps.5_loclust_3pca.tsv</th>\n",
       "      <td>loclust_3pca</td>\n",
       "      <td>6</td>\n",
       "      <td>5</td>\n",
       "      <td>0.12</td>\n",
       "      <td>0.873067</td>\n",
       "      <td>NaN</td>\n",
       "    </tr>\n",
       "    <tr>\n",
       "      <th>/sc/arion/projects/clemej05a/hilary/loclust_tool_comp/loclust_outputs/8/6/exponential-growth-linear-poly-sin-tan.12noise.5/0.12noise.exponential-growth-linear-poly-sin-tan.200reps.5_loclust_fa.tsv</th>\n",
       "      <td>loclust_fa</td>\n",
       "      <td>6</td>\n",
       "      <td>5</td>\n",
       "      <td>0.12</td>\n",
       "      <td>0.875818</td>\n",
       "      <td>NaN</td>\n",
       "    </tr>\n",
       "    <tr>\n",
       "      <th>/sc/arion/projects/clemej05a/hilary/loclust_tool_comp/loclust_outputs/8/6/exponential-growth-linear-norm-poly-tan.12noise.0/0.12noise.exponential-growth-linear-norm-poly-tan.200reps.0_loclust_fa.tsv</th>\n",
       "      <td>loclust_fa</td>\n",
       "      <td>6</td>\n",
       "      <td>0</td>\n",
       "      <td>0.12</td>\n",
       "      <td>0.908538</td>\n",
       "      <td>NaN</td>\n",
       "    </tr>\n",
       "  </tbody>\n",
       "</table>\n",
       "</div>"
      ],
      "text/plain": [
       "                                                            tool  \\\n",
       "/sc/arion/projects/clemej05a/hilary/loclust_too...    loclust_fa   \n",
       "/sc/arion/projects/clemej05a/hilary/loclust_too...  loclust_3pca   \n",
       "/sc/arion/projects/clemej05a/hilary/loclust_too...  loclust_3pca   \n",
       "/sc/arion/projects/clemej05a/hilary/loclust_too...    loclust_fa   \n",
       "/sc/arion/projects/clemej05a/hilary/loclust_too...    loclust_fa   \n",
       "\n",
       "                                                    num_gen_functions rep_num  \\\n",
       "/sc/arion/projects/clemej05a/hilary/loclust_too...                  6       5   \n",
       "/sc/arion/projects/clemej05a/hilary/loclust_too...                  6       5   \n",
       "/sc/arion/projects/clemej05a/hilary/loclust_too...                  6       5   \n",
       "/sc/arion/projects/clemej05a/hilary/loclust_too...                  6       5   \n",
       "/sc/arion/projects/clemej05a/hilary/loclust_too...                  6       0   \n",
       "\n",
       "                                                   noise_level  \\\n",
       "/sc/arion/projects/clemej05a/hilary/loclust_too...        0.16   \n",
       "/sc/arion/projects/clemej05a/hilary/loclust_too...        0.16   \n",
       "/sc/arion/projects/clemej05a/hilary/loclust_too...        0.12   \n",
       "/sc/arion/projects/clemej05a/hilary/loclust_too...        0.12   \n",
       "/sc/arion/projects/clemej05a/hilary/loclust_too...        0.12   \n",
       "\n",
       "                                                    v_measure_score filename  \n",
       "/sc/arion/projects/clemej05a/hilary/loclust_too...         0.902575      NaN  \n",
       "/sc/arion/projects/clemej05a/hilary/loclust_too...         0.782183      NaN  \n",
       "/sc/arion/projects/clemej05a/hilary/loclust_too...         0.873067      NaN  \n",
       "/sc/arion/projects/clemej05a/hilary/loclust_too...         0.875818      NaN  \n",
       "/sc/arion/projects/clemej05a/hilary/loclust_too...         0.908538      NaN  "
      ]
     },
     "execution_count": 7,
     "metadata": {},
     "output_type": "execute_result"
    }
   ],
   "source": [
    "# grab the vms results and compare what we have\n",
    "df_vms = pd.read_csv(path + 'outputs/jobs86/v-measure_results_loclust.kml.kmlShape.traj.dtw.dbagak.pic.963.tsv', sep='\\t', index_col=0)\n",
    "\n",
    "# parse results\n",
    "for n in ['0.0']:\n",
    "    for r in ['0']:\n",
    "        # get cluster assignments\n",
    "        fn = path + 'outputs/jobs87/results/sim_' + n + '_' + r + '/iclust/nn_imgtocluster.pk'\n",
    "        with open(fn, 'rb') as f:  # 'rb' stands for read binary\n",
    "            unpacked_object = pickle.load(f)\n",
    "        \n",
    "        df = pd.DataFrame(list(unpacked_object.items()), columns=['image', 'cluster'])\n",
    "        # fn is sims_5_0_0.396.jpg\n",
    "        # map 0-3 to one cluster, etc\n",
    "        df['image'] = df['image'].apply(lambda x: x.split('_')[3])\n",
    "        df['image'] = df['image'].apply(lambda x: int(int(x)/4))\n",
    "        \n",
    "        from sklearn.metrics.cluster import v_measure_score\n",
    "        \n",
    "        # Compute the V-measure score\n",
    "        vms = v_measure_score(df.image.values, df.cluster.values)\n",
    "        \n",
    "        new_row = pd.DataFrame({'filename': [fn], 'tool': ['iclust'], \n",
    "                                'num_gen_functions': [9], 'rep_num': [r], \n",
    "                                'noise_level': [n], 'v_measure_score': [vms]})#, index=pd.Index([], name='filename'))\n",
    "        df_vms = pd.concat([df_vms, new_row], axis=0)\n",
    "\n",
    "df_vms.head()"
   ]
  },
  {
   "cell_type": "code",
   "execution_count": 9,
   "metadata": {},
   "outputs": [
    {
     "name": "stdout",
     "output_type": "stream",
     "text": [
      "jobs85\n",
      "Diet\n",
      "Observed frequencies:\n",
      "Diet       HC  HCEL  HPSY  LC\n",
      "group                        \n",
      "cluster 1   2     1     1   1\n",
      "cluster 2   1     1     1   1\n",
      "cluster 3   0     2     3   0\n",
      "cluster 4   2     1     0   3\n",
      "Chi-squared statistic: 9.333333333333334\n",
      "P-value: 0.4070908354905886\n",
      "Degrees of freedom: 9\n",
      "Expected frequencies:\n",
      "[[1.25 1.25 1.25 1.25]\n",
      " [1.   1.   1.   1.  ]\n",
      " [1.25 1.25 1.25 1.25]\n",
      " [1.5  1.5  1.5  1.5 ]]\n"
     ]
    }
   ],
   "source": [
    "# get metadata and test how good iclust was on sean data (spoiler, not very good)\n",
    "meta = ['Diet'] \n",
    "dl = 'sean'\n",
    "df_traj = pd.read_csv(path + 'inputs/Bacteroides_L6_loclust_k5_3pca.tsv', sep='\\t')\n",
    "\n",
    "# for each cluster # \n",
    "for j in ['jobs85']:\n",
    "    print(j)\n",
    "    \n",
    "    # import results of iclust\n",
    "    df_results = pd.read_csv(path + 'outputs/' + j + '/' + dl + '_0_0.0_iclust/nn_df_pca.tsv', sep='\\t')\n",
    "    \n",
    "    # convert ID column from name of jpg image\n",
    "    df_results['ID'] = df_results['Unnamed: 0'].apply(lambda x: x.split('_0_')[0])\n",
    "    df_results['ID'] = df_results['ID'].apply(lambda x: x.split(dl + '_')[1])\n",
    "    IDs = list(df_traj.index.values)\n",
    "    df_results['ID'] = df_results['ID'].apply(lambda x: IDs[int(x)-1])\n",
    "    df_results = df_results.set_index('ID')\n",
    "    \n",
    "    # merge with traj\n",
    "    df_results = pd.concat([df_results, df_traj.loc[:,meta]],axis=1)\n",
    "    \n",
    "    # for each metadata variable\n",
    "    for m in meta:\n",
    "        print(m)\n",
    "        # create contingency table\n",
    "        contingency_table = pd.crosstab(index=df_results['group'], columns=df_results[m])\n",
    "    \n",
    "        # compute chi2\n",
    "        chi2_stat, p_val, dof, expected = scipy.stats.chi2_contingency(contingency_table)\n",
    "        \n",
    "        # Print the results\n",
    "        print(\"Observed frequencies:\")\n",
    "        print(contingency_table)\n",
    "        print(\"Chi-squared statistic:\", chi2_stat)\n",
    "        print(\"P-value:\", p_val)\n",
    "        print(\"Degrees of freedom:\", dof)\n",
    "        print(\"Expected frequencies:\")\n",
    "        print(expected)"
   ]
  },
  {
   "cell_type": "code",
   "execution_count": 10,
   "metadata": {},
   "outputs": [
    {
     "name": "stdout",
     "output_type": "stream",
     "text": [
      "Functions defined\n"
     ]
    }
   ],
   "source": [
    "op_to_k = {\n",
    "    'x0': 'x',\n",
    "    '+': 'o',\n",
    "    '-': 'o',\n",
    "    '**': '^',\n",
    "    '*': '*',\n",
    "    '/':  '/',\n",
    "    '(': '(',\n",
    "    ')': ')',\n",
    "    'e+': '',\n",
    "    'e-': '',\n",
    "    'cos': 'trig',\n",
    "    'sin': 'trig',\n",
    "    'exp': 'e',\n",
    "    'C': 'C'\n",
    "}\n",
    "\n",
    "def get_encoding(input_eq):\n",
    "    test = simplify_n(input_eq, 5)\n",
    "    test = str(test)\n",
    "    \n",
    "    # find all floats\n",
    "    floats = re.findall(r\"[-+]?(?:\\d*\\.*\\d+)\", test)\n",
    "    floats = list(filter(('0').__ne__, floats))\n",
    "    floats = sorted(floats, key=len, reverse=True)\n",
    "    \n",
    "    # replace floats with constant c\n",
    "    for f in floats:\n",
    "        test = test.replace(f,'C')\n",
    "    \n",
    "    # strip white space\n",
    "    test = test.replace(' ','')\n",
    "    \n",
    "    # convert to mapping\n",
    "    pattern = re.compile('|'.join(map(re.escape, op_to_k.keys())))\n",
    "    \n",
    "    # Define a function to replace matched substrings\n",
    "    def replace_substring(match):\n",
    "        return op_to_k[match.group(0)]\n",
    "    \n",
    "    # Apply replacement using regular expressions\n",
    "    output_eq = pattern.sub(replace_substring, test)\n",
    "    return(output_eq)\n",
    "\n",
    "\n",
    "\n",
    "def test_encoding(input_eq):\n",
    "    test = simplify_n(input_eq, 5)\n",
    "    print(test)\n",
    "    test = str(test)\n",
    "    \n",
    "    # find all floats\n",
    "    floats = re.findall(r\"[-+]?(?:\\d*\\.*\\d+)\", test)\n",
    "    floats = list(filter(('0').__ne__, floats))\n",
    "    floats = sorted(floats, key=len, reverse=True)\n",
    "    \n",
    "    # replace floats with constant c\n",
    "    for f in floats:\n",
    "        test = test.replace(f,'C')\n",
    "    \n",
    "    # strip white space\n",
    "    test = test.replace(' ','')\n",
    "\n",
    "    print(test)\n",
    "    # convert to mapping\n",
    "    pattern = re.compile('|'.join(map(re.escape, op_to_k.keys())))\n",
    "    \n",
    "    # Define a function to replace matched substrings\n",
    "    def replace_substring(match):\n",
    "        return op_to_k[match.group(0)]\n",
    "    \n",
    "    # Apply replacement using regular expressions\n",
    "    output_eq = pattern.sub(replace_substring, test)\n",
    "    return(output_eq)\n",
    "\n",
    "def simplify_n(input_eq, n):\n",
    "    if n > 1:\n",
    "        return simplify_n(sympy.simplify(input_eq), n-1)\n",
    "    else:\n",
    "        return input_eq\n",
    "\n",
    "print('Functions defined')"
   ]
  },
  {
   "cell_type": "code",
   "execution_count": 11,
   "metadata": {
    "scrolled": true
   },
   "outputs": [
    {
     "name": "stdout",
     "output_type": "stream",
     "text": [
      "Compiling Julia backend...\n"
     ]
    },
    {
     "name": "stderr",
     "output_type": "stream",
     "text": [
      "[ Info: Started!\n"
     ]
    },
    {
     "name": "stdout",
     "output_type": "stream",
     "text": [
      "[(exp(exp(cos((x0*0.21410841 - 2.142662)*cos(-0.3039796)))) - 2.185776)*1.5757143]\n",
      "['C*e(e(trig(C*xoC)))oC']\n"
     ]
    },
    {
     "name": "stderr",
     "output_type": "stream",
     "text": [
      "[ Info: Started!\n"
     ]
    },
    {
     "name": "stdout",
     "output_type": "stream",
     "text": [
      "[-2.1055033 - 0.98872077230166 + exp(2.1423)*exp(-cos((0.49331936*x0 - 0.12552422)*0.6527085))]\n",
      "['C*e(C*trig(C*x)oC*trig(C*x))oC']\n"
     ]
    },
    {
     "name": "stderr",
     "output_type": "stream",
     "text": [
      "[ Info: Started!\n"
     ]
    },
    {
     "name": "stdout",
     "output_type": "stream",
     "text": [
      "[(x0 + 1.4243542)*(cos(cos(x0*0.172127636842633)*2.4920962) + cos(cos(0.8941609))) + 0.10226318]\n",
      "['(xoC)*(trig(C*trig(C*x))oC)oC']\n"
     ]
    },
    {
     "name": "stderr",
     "output_type": "stream",
     "text": [
      "[ Info: Started!\n"
     ]
    },
    {
     "name": "stdout",
     "output_type": "stream",
     "text": [
      "[exp(exp(cos(exp(cos(-0.31413174*x0))*1.1942556)*1.2093825)) - 0.47879383]\n",
      "['e(e(C*trig(C*e(trig(C*x)))))oC']\n"
     ]
    },
    {
     "name": "stderr",
     "output_type": "stream",
     "text": [
      "[ Info: Started!\n"
     ]
    },
    {
     "name": "stdout",
     "output_type": "stream",
     "text": [
      "[cos(0.33071658*(x0 + cos(0.33071658)) + 1.257697) + 149.99998]\n",
      "['trig(C*xoC)oC']\n"
     ]
    },
    {
     "name": "stderr",
     "output_type": "stream",
     "text": [
      "[ Info: Started!\n"
     ]
    },
    {
     "name": "stdout",
     "output_type": "stream",
     "text": [
      "[cos(0.33083472*x0 + cos(cos(0.31179246)) + cos(-0.15018103)) - 5.15772982521743 + 77.57917 + 77.57917]\n",
      "['trig(C*xoC)oC']\n"
     ]
    },
    {
     "name": "stderr",
     "output_type": "stream",
     "text": [
      "[ Info: Started!\n"
     ]
    },
    {
     "name": "stdout",
     "output_type": "stream",
     "text": [
      "[cos((x0 - 0.5990393 + cos(cos(cos(1/cos(1/cos(-0.030739306))))) + 4.7774043)*0.33068496562629) + 149.99998]\n",
      "['trig(C*xoC)oC']\n"
     ]
    },
    {
     "name": "stderr",
     "output_type": "stream",
     "text": [
      "[ Info: Started!\n"
     ]
    },
    {
     "name": "stdout",
     "output_type": "stream",
     "text": [
      "[cos((x0 - 0.01806216)*exp(-1.1065606) - 55.3300793344809 + 0.3581386) + 149.99994]\n",
      "['trig(C*xoC)oC']\n"
     ]
    },
    {
     "name": "stderr",
     "output_type": "stream",
     "text": [
      "[ Info: Started!\n"
     ]
    },
    {
     "name": "stdout",
     "output_type": "stream",
     "text": [
      "[exp(5.0105395 - 0.18235557*x0) + 1/((x0*x0 + exp(5.0105395))*cos(-1.1514187))]\n",
      "['(C*x^CoC*e(C*x)oC)*e(C*x)/(x^CoC)']\n"
     ]
    },
    {
     "name": "stderr",
     "output_type": "stream",
     "text": [
      "[ Info: Started!\n"
     ]
    },
    {
     "name": "stdout",
     "output_type": "stream",
     "text": [
      "[0.004943571 + exp(5.0106225)*exp(-0.18235387*x0)]\n",
      "['CoC*e(C*x)']\n"
     ]
    },
    {
     "name": "stderr",
     "output_type": "stream",
     "text": [
      "[ Info: Started!\n"
     ]
    },
    {
     "name": "stdout",
     "output_type": "stream",
     "text": [
      "[exp(5.010629 + x0*(-0.18232302)) + 1/(x0 + (x0 + 5.010629)*exp(5.010629))]\n",
      "['(C*xoe(C*x)oC)*e(C*x)/(C*xoC)']\n"
     ]
    },
    {
     "name": "stderr",
     "output_type": "stream",
     "text": [
      "[ Info: Started!\n"
     ]
    },
    {
     "name": "stdout",
     "output_type": "stream",
     "text": [
      "[19.840113*(-0.045137476 + exp(-0.18202524*(x0 - 5.6661544))*exp(cos(0.13134214))) + cos(cos(cos(-0.20549087)))]\n",
      "['CoC*e(C*x)']\n"
     ]
    },
    {
     "name": "stderr",
     "output_type": "stream",
     "text": [
      "[ Info: Started!\n"
     ]
    },
    {
     "name": "stdout",
     "output_type": "stream",
     "text": [
      "[x0 + x0 + x0 + x0 + 15.0]\n",
      "['C*xoC']\n"
     ]
    },
    {
     "name": "stderr",
     "output_type": "stream",
     "text": [
      "[ Info: Started!\n"
     ]
    },
    {
     "name": "stdout",
     "output_type": "stream",
     "text": [
      "[x0 + x0 + x0 + x0 + 15.0]\n",
      "['C*xoC']\n"
     ]
    },
    {
     "name": "stderr",
     "output_type": "stream",
     "text": [
      "[ Info: Started!\n"
     ]
    },
    {
     "name": "stdout",
     "output_type": "stream",
     "text": [
      "[x0 + x0 + x0 + x0 + 15.0]\n",
      "['C*xoC']\n"
     ]
    },
    {
     "name": "stderr",
     "output_type": "stream",
     "text": [
      "[ Info: Started!\n"
     ]
    },
    {
     "name": "stdout",
     "output_type": "stream",
     "text": [
      "[x0 + x0 + x0 + x0 + 15.0]\n",
      "['C*xoC']\n"
     ]
    },
    {
     "name": "stderr",
     "output_type": "stream",
     "text": [
      "[ Info: Started!\n"
     ]
    },
    {
     "name": "stdout",
     "output_type": "stream",
     "text": [
      "[x0*(x0*cos(cos((x0 - 4.165016)*0.2118581)) - 2.98745478113757) + x0]\n",
      "['x*(x*trig(trig(C*xoC))oC)']\n"
     ]
    },
    {
     "name": "stderr",
     "output_type": "stream",
     "text": [
      "[ Info: Started!\n"
     ]
    },
    {
     "name": "stdout",
     "output_type": "stream",
     "text": [
      "[(x0 + cos(-13.037065*x0)*2.3725402 - 3.189675)*10.83287 + 1.4742241]\n",
      "['C*xoC*trig(C*x)oC']\n"
     ]
    },
    {
     "name": "stderr",
     "output_type": "stream",
     "text": [
      "[ Info: Started!\n"
     ]
    },
    {
     "name": "stdout",
     "output_type": "stream",
     "text": [
      "[x0*cos(0.45123422*x0 + 0.76098937)*2.7527223 + 0.5927594*x0*x0]\n",
      "['x*(C*xoC*trig(C*xoC))']\n"
     ]
    },
    {
     "name": "stderr",
     "output_type": "stream",
     "text": [
      "[ Info: Started!\n"
     ]
    },
    {
     "name": "stdout",
     "output_type": "stream",
     "text": [
      "[x0*(0.5777898*x0 - 2.7449913*cos(0.4289692*(x0 + exp(2.2722535))))]\n",
      "['x*(C*xoC*trig(C*xoC))']\n"
     ]
    },
    {
     "name": "stderr",
     "output_type": "stream",
     "text": [
      "[ Info: Started!\n"
     ]
    },
    {
     "name": "stdout",
     "output_type": "stream",
     "text": [
      "[0.26004604*x0 + 197.56735 + 1/(x0 - 0.25760648)]\n",
      "['((C*xoC)*(xoC)oC)/(xoC)']\n"
     ]
    },
    {
     "name": "stderr",
     "output_type": "stream",
     "text": [
      "[ Info: Started!\n"
     ]
    },
    {
     "name": "stdout",
     "output_type": "stream",
     "text": [
      "[x0*0.20989726 + 198.14226 - 4.24167449432347*exp(-x0)]\n",
      "['C*xoCoC*e(ox)']\n"
     ]
    },
    {
     "name": "stderr",
     "output_type": "stream",
     "text": [
      "[ Info: Started!\n"
     ]
    },
    {
     "name": "stdout",
     "output_type": "stream",
     "text": [
      "[x0*0.18617147 + 198.29985 - 4.69000695528031*exp(-x0)]\n",
      "['C*xoCoC*e(ox)']\n"
     ]
    },
    {
     "name": "stderr",
     "output_type": "stream",
     "text": [
      "[ Info: Started!\n"
     ]
    },
    {
     "name": "stdout",
     "output_type": "stream",
     "text": [
      "[(x0 - 0.26199895/cos(x0 + 1.4318488077625))*0.1957309 + 198.24315 - 4.46042724559206*exp(-x0)]\n",
      "['C*xoCoC/trig(xoC)oC*e(ox)']\n"
     ]
    },
    {
     "name": "stderr",
     "output_type": "stream",
     "text": [
      "[ Info: Started!\n"
     ]
    },
    {
     "name": "stdout",
     "output_type": "stream",
     "text": [
      "[8.370952*x0 + exp(exp(1.1878878))*cos((x0 + exp(1.2065964))*0.43065503)]\n",
      "['C*xoC*trig(C*xoC)']\n"
     ]
    },
    {
     "name": "stderr",
     "output_type": "stream",
     "text": [
      "[ Info: Started!\n"
     ]
    },
    {
     "name": "stdout",
     "output_type": "stream",
     "text": [
      "[x0*(0.6103402*x0 - 4.4497566*cos(x0*0.32844153)) + 1.5667843]\n",
      "['x*(C*xoC*trig(C*x))oC']\n"
     ]
    },
    {
     "name": "stderr",
     "output_type": "stream",
     "text": [
      "[ Info: Started!\n"
     ]
    },
    {
     "name": "stdout",
     "output_type": "stream",
     "text": [
      "[x0*x0*cos(cos(-0.16790846*x0) - 0.16837919)]\n",
      "['x^C*trig(trig(C*x)oC)']\n"
     ]
    },
    {
     "name": "stderr",
     "output_type": "stream",
     "text": [
      "[ Info: Started!\n"
     ]
    },
    {
     "name": "stdout",
     "output_type": "stream",
     "text": [
      "[(x0 + cos(-7.00821923952411*x0) - 3.2647214)*exp(exp(cos(cos(-0.1426896*x0)))) + 6.20087050300469]\n",
      "['(xotrig(C*x)oC)*e(e(trig(trig(C*x))))oC']\n"
     ]
    },
    {
     "name": "stderr",
     "output_type": "stream",
     "text": [
      "[ Info: Started!\n"
     ]
    },
    {
     "name": "stdout",
     "output_type": "stream",
     "text": [
      "[x0 + cos(x0*x0) + 120.747536*cos(1/(0.23261943*x0 + 0.6326533))]\n",
      "['xotrig(x^C)oC*trig(C/(C*xoC))']\n"
     ]
    },
    {
     "name": "stderr",
     "output_type": "stream",
     "text": [
      "[ Info: Started!\n"
     ]
    },
    {
     "name": "stdout",
     "output_type": "stream",
     "text": [
      "[x0*(0.029029464 + 149.97676)/(x0 + 1.9996133) - 0.00873406985956951]\n",
      "['(C*xoC)/(xoC)']\n"
     ]
    },
    {
     "name": "stderr",
     "output_type": "stream",
     "text": [
      "[ Info: Started!\n"
     ]
    },
    {
     "name": "stdout",
     "output_type": "stream",
     "text": [
      "[x0*1.4563314 + 110.15562 - 102.316779296977*exp(-0.48551577*x0)]\n",
      "['C*xoCoC*e(C*x)']\n"
     ]
    },
    {
     "name": "stderr",
     "output_type": "stream",
     "text": [
      "[ Info: Started!\n"
     ]
    },
    {
     "name": "stdout",
     "output_type": "stream",
     "text": [
      "[(x0*exp(3.5193844 + x0*(-0.15827693)) + x0*5.5141554)*exp(exp(-x0))]\n",
      "['x*(C*e(C*x)oC)*e((C*x*e(x)oC)*e(ox))']\n"
     ]
    },
    {
     "name": "stderr",
     "output_type": "stream",
     "text": [
      "[ Info: Started!\n"
     ]
    },
    {
     "name": "stdout",
     "output_type": "stream",
     "text": [
      "[exp(cos(0.2631284*(x0 + 3.3943138)))*9.975327 - 3.7847168]\n",
      "['C*e(trig(C*xoC))oC']\n"
     ]
    },
    {
     "name": "stderr",
     "output_type": "stream",
     "text": [
      "[ Info: Started!\n"
     ]
    },
    {
     "name": "stdout",
     "output_type": "stream",
     "text": [
      "[10.564965*exp(cos(0.25188434*x0 + cos(-0.09967558))) - 3.8261368]\n",
      "['C*e(trig(C*xoC))oC']\n"
     ]
    },
    {
     "name": "stderr",
     "output_type": "stream",
     "text": [
      "[ Info: Started!\n"
     ]
    },
    {
     "name": "stdout",
     "output_type": "stream",
     "text": [
      "[x0 + 9.755032*exp(cos(0.26363057*(x0 + 0.94658))) - 13.294119]\n",
      "['xoC*e(trig(C*xoC))oC']\n"
     ]
    },
    {
     "name": "stderr",
     "output_type": "stream",
     "text": [
      "[ Info: Started!\n"
     ]
    },
    {
     "name": "stdout",
     "output_type": "stream",
     "text": [
      "[9.206197*exp(cos((x0 + exp(1.1368197))*0.27198172)) - 3.3374631]\n",
      "['C*e(trig(C*xoC))oC']\n"
     ]
    },
    {
     "data": {
      "text/html": [
       "<div>\n",
       "<style scoped>\n",
       "    .dataframe tbody tr th:only-of-type {\n",
       "        vertical-align: middle;\n",
       "    }\n",
       "\n",
       "    .dataframe tbody tr th {\n",
       "        vertical-align: top;\n",
       "    }\n",
       "\n",
       "    .dataframe thead th {\n",
       "        text-align: right;\n",
       "    }\n",
       "</style>\n",
       "<table border=\"1\" class=\"dataframe\">\n",
       "  <thead>\n",
       "    <tr style=\"text-align: right;\">\n",
       "      <th></th>\n",
       "      <th>267109</th>\n",
       "      <th>264944</th>\n",
       "      <th>264157</th>\n",
       "      <th>265624</th>\n",
       "      <th>353473</th>\n",
       "      <th>355665</th>\n",
       "      <th>354402</th>\n",
       "      <th>353981</th>\n",
       "      <th>89925</th>\n",
       "      <th>91029</th>\n",
       "      <th>...</th>\n",
       "      <th>222661</th>\n",
       "      <th>220116</th>\n",
       "      <th>134477</th>\n",
       "      <th>135349</th>\n",
       "      <th>133812</th>\n",
       "      <th>133532</th>\n",
       "      <th>178760</th>\n",
       "      <th>177914</th>\n",
       "      <th>177678</th>\n",
       "      <th>178081</th>\n",
       "    </tr>\n",
       "  </thead>\n",
       "  <tbody>\n",
       "    <tr>\n",
       "      <th>0</th>\n",
       "      <td>C*e(e(trig(C*xoC)))oC</td>\n",
       "      <td>C*e(C*trig(C*x)oC*trig(C*x))oC</td>\n",
       "      <td>(xoC)*(trig(C*trig(C*x))oC)oC</td>\n",
       "      <td>e(e(C*trig(C*e(trig(C*x)))))oC</td>\n",
       "      <td>trig(C*xoC)oC</td>\n",
       "      <td>trig(C*xoC)oC</td>\n",
       "      <td>trig(C*xoC)oC</td>\n",
       "      <td>trig(C*xoC)oC</td>\n",
       "      <td>(C*x^CoC*e(C*x)oC)*e(C*x)/(x^CoC)</td>\n",
       "      <td>CoC*e(C*x)</td>\n",
       "      <td>...</td>\n",
       "      <td>x^C*trig(trig(C*x)oC)</td>\n",
       "      <td>(xotrig(C*x)oC)*e(e(trig(trig(C*x))))oC</td>\n",
       "      <td>xotrig(x^C)oC*trig(C/(C*xoC))</td>\n",
       "      <td>(C*xoC)/(xoC)</td>\n",
       "      <td>C*xoCoC*e(C*x)</td>\n",
       "      <td>x*(C*e(C*x)oC)*e((C*x*e(x)oC)*e(ox))</td>\n",
       "      <td>C*e(trig(C*xoC))oC</td>\n",
       "      <td>C*e(trig(C*xoC))oC</td>\n",
       "      <td>xoC*e(trig(C*xoC))oC</td>\n",
       "      <td>C*e(trig(C*xoC))oC</td>\n",
       "    </tr>\n",
       "  </tbody>\n",
       "</table>\n",
       "<p>1 rows × 36 columns</p>\n",
       "</div>"
      ],
      "text/plain": [
       "                  267109                          264944  \\\n",
       "0  C*e(e(trig(C*xoC)))oC  C*e(C*trig(C*x)oC*trig(C*x))oC   \n",
       "\n",
       "                          264157                          265624  \\\n",
       "0  (xoC)*(trig(C*trig(C*x))oC)oC  e(e(C*trig(C*e(trig(C*x)))))oC   \n",
       "\n",
       "          353473         355665         354402         353981  \\\n",
       "0  trig(C*xoC)oC  trig(C*xoC)oC  trig(C*xoC)oC  trig(C*xoC)oC   \n",
       "\n",
       "                               89925       91029  ...                 222661  \\\n",
       "0  (C*x^CoC*e(C*x)oC)*e(C*x)/(x^CoC)  CoC*e(C*x)  ...  x^C*trig(trig(C*x)oC)   \n",
       "\n",
       "                                    220116                         134477  \\\n",
       "0  (xotrig(C*x)oC)*e(e(trig(trig(C*x))))oC  xotrig(x^C)oC*trig(C/(C*xoC))   \n",
       "\n",
       "          135349          133812                                133532  \\\n",
       "0  (C*xoC)/(xoC)  C*xoCoC*e(C*x)  x*(C*e(C*x)oC)*e((C*x*e(x)oC)*e(ox))   \n",
       "\n",
       "               178760              177914                177678  \\\n",
       "0  C*e(trig(C*xoC))oC  C*e(trig(C*xoC))oC  xoC*e(trig(C*xoC))oC   \n",
       "\n",
       "               178081  \n",
       "0  C*e(trig(C*xoC))oC  \n",
       "\n",
       "[1 rows x 36 columns]"
      ]
     },
     "execution_count": 11,
     "metadata": {},
     "output_type": "execute_result"
    }
   ],
   "source": [
    "# define list to store models\n",
    "t_encoded_models = {}\n",
    "t_models = {}\n",
    "\n",
    "n='0.0'\n",
    "r='0'\n",
    "nsim=1\n",
    "\n",
    "df_input = noise_to_rep[n][r]\n",
    "\n",
    "traj = list(df_input.columns)[1:]\n",
    "for t in traj:\n",
    "    models = []\n",
    "    encoded_models = []\n",
    "    for i in range(nsim):\n",
    "        model = PySRRegressor(\n",
    "            niterations=40,  # < Increase me for better results\n",
    "            binary_operators=[\"+\", \"*\"],\n",
    "            unary_operators=[\n",
    "                \"cos\",\n",
    "                \"exp\",\n",
    "                # \"sin\",\n",
    "                \"inv(x) = 1/x\", # Custom operator (julia syntax)\n",
    "            ],\n",
    "            # denoise=True,\n",
    "            extra_sympy_mappings={\"inv\": lambda x: 1 / x},\n",
    "            temp_equation_file=True, # to delete temp files\n",
    "            # ^ Define operator for SymPy as well\n",
    "            # elementwise_loss=\"loss(prediction, target) = (prediction - target)^2\",\n",
    "            elementwise_loss=\"L1DistLoss()\",\n",
    "            # ^ Custom loss function (julia syntax)\n",
    "        )\n",
    "        # This will set up the model for 40 iterations of the search code, which contains hundreds of thousands of mutations and equation evaluations.\n",
    "        \n",
    "        # Let's train this model on our dataset:\n",
    "        X = df_input['t'].values.reshape(-1, 1)\n",
    "        y = df_input.loc[:,t]\n",
    "        model.fit(X, y)\n",
    "        # Internally, this launches a Julia process which will do a multithreaded search for equations to fit the dataset.\n",
    "        # Equations will be printed during training, and once you are satisfied, you may quit early by hitting 'q' and then <enter>.\n",
    "        # After the model has been fit, you can run model.predict(X) to see the predictions on a given dataset using the automatically-selected expression, or, for example, model.predict(X, 3) to see the predictions of the 3rd equation.\n",
    "        #model.predict(y[3])\n",
    "        # You may run:\n",
    "        input_eq = model.sympy()\n",
    "        encoded_models.append(get_encoding(input_eq))\n",
    "        models.append(input_eq)\n",
    "        # print(sympy.simplify(model.sympy()))\n",
    "    print(models)\n",
    "    t_models[t] = models\n",
    "    t_encoded_models[t] = encoded_models\n",
    "    print(encoded_models)\n",
    "df = pd.DataFrame.from_dict(data=t_encoded_models)\n",
    "df.to_csv(path + 'inputs/encoded_models_' + n + '_' + r + '_' + str(nsim) + '.tsv', sep='\\t')\n",
    "\n",
    "df.head()"
   ]
  },
  {
   "cell_type": "code",
   "execution_count": 12,
   "metadata": {},
   "outputs": [
    {
     "data": {
      "text/plain": [
       "{'267109': 'C*e(e(trig(C*xoC)))oC',\n",
       " '264944': 'C*e(C*trig(C*x)oC*trig(C*x))oC',\n",
       " '264157': '(xoC)*(trig(C*trig(C*x))oC)oC',\n",
       " '265624': 'e(e(C*trig(C*e(trig(C*x)))))oC',\n",
       " '353473': 'trig(C*xoC)oC',\n",
       " '355665': 'trig(C*xoC)oC',\n",
       " '354402': 'trig(C*xoC)oC',\n",
       " '353981': 'trig(C*xoC)oC',\n",
       " '89925': '(C*x^CoC*e(C*x)oC)*e(C*x)/(x^CoC)',\n",
       " '91029': 'CoC*e(C*x)',\n",
       " '91953': '(C*xoe(C*x)oC)*e(C*x)/(C*xoC)',\n",
       " '91604': 'CoC*e(C*x)',\n",
       " '44265': 'C*xoC',\n",
       " '44373': 'C*xoC',\n",
       " '44811': 'C*xoC',\n",
       " '47375': 'C*xoC',\n",
       " '399060': 'x*(x*trig(trig(C*xoC))oC)',\n",
       " '396862': 'C*xoC*trig(C*x)oC',\n",
       " '399937': 'x*(C*xoC*trig(C*xoC))',\n",
       " '398647': 'x*(C*xoC*trig(C*xoC))',\n",
       " '311507': '((C*xoC)*(xoC)oC)/(xoC)',\n",
       " '308946': 'C*xoCoC*e(ox)',\n",
       " '310543': 'C*xoCoC*e(ox)',\n",
       " '309113': 'C*xoCoC/trig(xoC)oC*e(ox)',\n",
       " '222174': 'C*xoC*trig(C*xoC)',\n",
       " '221857': 'x*(C*xoC*trig(C*x))oC',\n",
       " '222661': 'x^C*trig(trig(C*x)oC)',\n",
       " '220116': '(xotrig(C*x)oC)*e(e(trig(trig(C*x))))oC',\n",
       " '134477': 'xotrig(x^C)oC*trig(C/(C*xoC))',\n",
       " '135349': '(C*xoC)/(xoC)',\n",
       " '133812': 'C*xoCoC*e(C*x)',\n",
       " '133532': 'x*(C*e(C*x)oC)*e((C*x*e(x)oC)*e(ox))',\n",
       " '178760': 'C*e(trig(C*xoC))oC',\n",
       " '177914': 'C*e(trig(C*xoC))oC',\n",
       " '177678': 'xoC*e(trig(C*xoC))oC',\n",
       " '178081': 'C*e(trig(C*xoC))oC'}"
      ]
     },
     "execution_count": 12,
     "metadata": {},
     "output_type": "execute_result"
    }
   ],
   "source": [
    "# t_encoded_models\n",
    "# pd.Series(encoded_models).value_counts()\n",
    "df = pd.read_csv(path + 'inputs/encoded_models_0.0_0_1.tsv', sep='\\t', index_col=0)\n",
    "\n",
    "# dict to store mode result\n",
    "assignment = {}\n",
    "\n",
    "# get value counts per col and pick top\n",
    "for t in list(df.columns.values):\n",
    "    # Count occurrences of each string\n",
    "    counts = Counter(df.loc[:,t])\n",
    "    \n",
    "    # Get the most common string\n",
    "    assignment[t] = counts.most_common(1)[0][0]\n",
    "\n",
    "assignment"
   ]
  },
  {
   "cell_type": "code",
   "execution_count": 13,
   "metadata": {},
   "outputs": [
    {
     "name": "stdout",
     "output_type": "stream",
     "text": [
      "trig(C*x\n",
      "trig(C*xoC)oC\n",
      "*e(C*x)\n",
      "C*xoC\n",
      "trig(C*x\n",
      "C*xoC\n",
      "trig(C*x\n",
      "(C*x\n",
      "C*e(trig(C*xoC))oC\n"
     ]
    },
    {
     "data": {
      "text/plain": [
       "'\\n# L2\\n\\nC*e(\\ntrig(C*xoC)oC\\nC*e(C*x)\\nC*xoC\\ntrig(C*x\\nxoC)\\n(C*xoC\\nC*trig(\\nC*e(trig(C*xoC))otrig(\\n\\n# L1\\ntrig(C*x\\ntrig(C*xoC)oC\\n*e(C*x)\\nC*xoC\\ntrig(C*x\\nC*xo\\ntrig(C*x\\n*trig(\\nC*e(trig(C*x\\n\\n'"
      ]
     },
     "execution_count": 13,
     "metadata": {},
     "output_type": "execute_result"
    }
   ],
   "source": [
    "# find longest shared substrings in batches of 4 trajs \n",
    "def long_substr(data):\n",
    "    substr = ''\n",
    "    if len(data) > 1 and len(data[0]) > 0:\n",
    "        for i in range(len(data[0])):\n",
    "            for j in range(len(data[0])-i+1):\n",
    "                if j > len(substr) and is_substr(data[0][i:i+j], data):\n",
    "                    substr = data[0][i:i+j]\n",
    "    return substr\n",
    "\n",
    "def is_substr(find, data):\n",
    "    if len(data) < 1 and len(find) < 1:\n",
    "        return False\n",
    "    for i in range(len(data)):\n",
    "        if find not in data[i]:\n",
    "            return False\n",
    "    return True\n",
    "\n",
    "def batch_dict_values(dictionary, batch_size=4):\n",
    "    # Get all values from the dictionary\n",
    "    values = list(dictionary.values())\n",
    "    \n",
    "    # Calculate number of batches needed\n",
    "    num_batches = (len(values) + batch_size - 1) // batch_size\n",
    "    \n",
    "    # Create a list of batches\n",
    "    batches = [values[i * batch_size:(i + 1) * batch_size] for i in range(num_batches)]\n",
    "    \n",
    "    return batches\n",
    "\n",
    "batched_values = batch_dict_values(assignment)\n",
    "for batch in batched_values:\n",
    "    print(long_substr(batch))\n",
    "\n",
    "\n",
    "'''\n",
    "# L2\n",
    "\n",
    "C*e(\n",
    "trig(C*xoC)oC\n",
    "C*e(C*x)\n",
    "C*xoC\n",
    "trig(C*x\n",
    "xoC)\n",
    "(C*xoC\n",
    "C*trig(\n",
    "C*e(trig(C*xoC))otrig(\n",
    "\n",
    "# L1\n",
    "trig(C*x\n",
    "trig(C*xoC)oC\n",
    "*e(C*x)\n",
    "C*xoC\n",
    "trig(C*x\n",
    "C*xo\n",
    "trig(C*x\n",
    "*trig(\n",
    "C*e(trig(C*x\n",
    "\n",
    "'''\n"
   ]
  },
  {
   "cell_type": "code",
   "execution_count": 15,
   "metadata": {},
   "outputs": [
    {
     "data": {
      "text/plain": [
       "<Axes: xlabel='t', ylabel='y'>"
      ]
     },
     "execution_count": 15,
     "metadata": {},
     "output_type": "execute_result"
    },
    {
     "data": {
      "image/png": "[encoded data removed]",
      "text/plain": [
       "<Figure size 640x480 with 1 Axes>"
      ]
     },
     "metadata": {},
     "output_type": "display_data"
    }
   ],
   "source": [
    "# plot model\n",
    "k=35\n",
    "t = traj[k]\n",
    "df_input = noise_to_rep[n][r]\n",
    "x0 = df_input['t'].values\n",
    "\n",
    "y = 10.159414*np.exp(np.cos(0.2574024*x0 + 0.950925547356)) - 3.58521172785722\n",
    "\n",
    "sns.scatterplot(data=pd.DataFrame.from_dict({'t':df_input['t'].values,'y':df_input[t].values}), x='t', y='y')\n",
    "sns.scatterplot(data=pd.DataFrame.from_dict({'t':df_input['t'].values,'y':y}), x='t', y='y')"
   ]
  },
  {
   "cell_type": "code",
   "execution_count": 17,
   "metadata": {},
   "outputs": [
    {
     "data": {
      "text/html": [
       "<div>\n",
       "<style scoped>\n",
       "    .dataframe tbody tr th:only-of-type {\n",
       "        vertical-align: middle;\n",
       "    }\n",
       "\n",
       "    .dataframe tbody tr th {\n",
       "        vertical-align: top;\n",
       "    }\n",
       "\n",
       "    .dataframe thead th {\n",
       "        text-align: right;\n",
       "    }\n",
       "</style>\n",
       "<table border=\"1\" class=\"dataframe\">\n",
       "  <thead>\n",
       "    <tr style=\"text-align: right;\">\n",
       "      <th></th>\n",
       "      <th>t</th>\n",
       "      <th>0</th>\n",
       "      <th>1</th>\n",
       "      <th>2</th>\n",
       "      <th>3</th>\n",
       "      <th>4</th>\n",
       "      <th>5</th>\n",
       "      <th>6</th>\n",
       "      <th>7</th>\n",
       "      <th>8</th>\n",
       "      <th>...</th>\n",
       "      <th>10</th>\n",
       "      <th>11</th>\n",
       "      <th>12</th>\n",
       "      <th>13</th>\n",
       "      <th>14</th>\n",
       "      <th>15</th>\n",
       "      <th>16</th>\n",
       "      <th>17</th>\n",
       "      <th>18</th>\n",
       "      <th>19</th>\n",
       "    </tr>\n",
       "  </thead>\n",
       "  <tbody>\n",
       "    <tr>\n",
       "      <th>0</th>\n",
       "      <td>0.0</td>\n",
       "      <td>0.007155</td>\n",
       "      <td>0.009933</td>\n",
       "      <td>0.009331</td>\n",
       "      <td>0.018379</td>\n",
       "      <td>0.006761</td>\n",
       "      <td>0.003677</td>\n",
       "      <td>0.015011</td>\n",
       "      <td>0.014262</td>\n",
       "      <td>0.004050</td>\n",
       "      <td>...</td>\n",
       "      <td>0.007282</td>\n",
       "      <td>0.005100</td>\n",
       "      <td>0.015956</td>\n",
       "      <td>0.024371</td>\n",
       "      <td>0.004004</td>\n",
       "      <td>0.005768</td>\n",
       "      <td>0.006147</td>\n",
       "      <td>0.033674</td>\n",
       "      <td>0.002129</td>\n",
       "      <td>0.015599</td>\n",
       "    </tr>\n",
       "    <tr>\n",
       "      <th>1</th>\n",
       "      <td>1.0</td>\n",
       "      <td>0.006183</td>\n",
       "      <td>0.007868</td>\n",
       "      <td>0.007252</td>\n",
       "      <td>0.004856</td>\n",
       "      <td>0.007558</td>\n",
       "      <td>0.015127</td>\n",
       "      <td>0.015866</td>\n",
       "      <td>0.016384</td>\n",
       "      <td>0.019800</td>\n",
       "      <td>...</td>\n",
       "      <td>0.443032</td>\n",
       "      <td>0.421478</td>\n",
       "      <td>0.291868</td>\n",
       "      <td>0.208212</td>\n",
       "      <td>0.214434</td>\n",
       "      <td>0.236917</td>\n",
       "      <td>0.089874</td>\n",
       "      <td>0.075828</td>\n",
       "      <td>0.109843</td>\n",
       "      <td>0.005672</td>\n",
       "    </tr>\n",
       "    <tr>\n",
       "      <th>2</th>\n",
       "      <td>2.0</td>\n",
       "      <td>0.007351</td>\n",
       "      <td>0.012866</td>\n",
       "      <td>0.011220</td>\n",
       "      <td>0.013309</td>\n",
       "      <td>0.007260</td>\n",
       "      <td>0.012411</td>\n",
       "      <td>0.070810</td>\n",
       "      <td>0.014767</td>\n",
       "      <td>0.050613</td>\n",
       "      <td>...</td>\n",
       "      <td>0.152731</td>\n",
       "      <td>0.099212</td>\n",
       "      <td>0.440940</td>\n",
       "      <td>0.076807</td>\n",
       "      <td>0.092483</td>\n",
       "      <td>0.533673</td>\n",
       "      <td>0.594490</td>\n",
       "      <td>0.465584</td>\n",
       "      <td>0.494531</td>\n",
       "      <td>0.504454</td>\n",
       "    </tr>\n",
       "    <tr>\n",
       "      <th>3</th>\n",
       "      <td>3.0</td>\n",
       "      <td>0.007748</td>\n",
       "      <td>0.011613</td>\n",
       "      <td>0.009226</td>\n",
       "      <td>0.015147</td>\n",
       "      <td>0.005673</td>\n",
       "      <td>0.045168</td>\n",
       "      <td>0.108219</td>\n",
       "      <td>0.025055</td>\n",
       "      <td>0.071747</td>\n",
       "      <td>...</td>\n",
       "      <td>0.136425</td>\n",
       "      <td>0.088072</td>\n",
       "      <td>0.243459</td>\n",
       "      <td>0.051407</td>\n",
       "      <td>0.143225</td>\n",
       "      <td>0.552494</td>\n",
       "      <td>0.473745</td>\n",
       "      <td>0.457868</td>\n",
       "      <td>0.473282</td>\n",
       "      <td>0.497165</td>\n",
       "    </tr>\n",
       "    <tr>\n",
       "      <th>4</th>\n",
       "      <td>4.0</td>\n",
       "      <td>0.008144</td>\n",
       "      <td>0.010360</td>\n",
       "      <td>0.007232</td>\n",
       "      <td>0.016985</td>\n",
       "      <td>0.004086</td>\n",
       "      <td>0.077925</td>\n",
       "      <td>0.145627</td>\n",
       "      <td>0.035343</td>\n",
       "      <td>0.092882</td>\n",
       "      <td>...</td>\n",
       "      <td>0.120119</td>\n",
       "      <td>0.076931</td>\n",
       "      <td>0.045978</td>\n",
       "      <td>0.026006</td>\n",
       "      <td>0.193968</td>\n",
       "      <td>0.571315</td>\n",
       "      <td>0.353000</td>\n",
       "      <td>0.450152</td>\n",
       "      <td>0.452032</td>\n",
       "      <td>0.489875</td>\n",
       "    </tr>\n",
       "  </tbody>\n",
       "</table>\n",
       "<p>5 rows × 21 columns</p>\n",
       "</div>"
      ],
      "text/plain": [
       "     t         0         1         2         3         4         5         6  \\\n",
       "0  0.0  0.007155  0.009933  0.009331  0.018379  0.006761  0.003677  0.015011   \n",
       "1  1.0  0.006183  0.007868  0.007252  0.004856  0.007558  0.015127  0.015866   \n",
       "2  2.0  0.007351  0.012866  0.011220  0.013309  0.007260  0.012411  0.070810   \n",
       "3  3.0  0.007748  0.011613  0.009226  0.015147  0.005673  0.045168  0.108219   \n",
       "4  4.0  0.008144  0.010360  0.007232  0.016985  0.004086  0.077925  0.145627   \n",
       "\n",
       "          7         8  ...        10        11        12        13        14  \\\n",
       "0  0.014262  0.004050  ...  0.007282  0.005100  0.015956  0.024371  0.004004   \n",
       "1  0.016384  0.019800  ...  0.443032  0.421478  0.291868  0.208212  0.214434   \n",
       "2  0.014767  0.050613  ...  0.152731  0.099212  0.440940  0.076807  0.092483   \n",
       "3  0.025055  0.071747  ...  0.136425  0.088072  0.243459  0.051407  0.143225   \n",
       "4  0.035343  0.092882  ...  0.120119  0.076931  0.045978  0.026006  0.193968   \n",
       "\n",
       "         15        16        17        18        19  \n",
       "0  0.005768  0.006147  0.033674  0.002129  0.015599  \n",
       "1  0.236917  0.089874  0.075828  0.109843  0.005672  \n",
       "2  0.533673  0.594490  0.465584  0.494531  0.504454  \n",
       "3  0.552494  0.473745  0.457868  0.473282  0.497165  \n",
       "4  0.571315  0.353000  0.450152  0.452032  0.489875  \n",
       "\n",
       "[5 rows x 21 columns]"
      ]
     },
     "execution_count": 17,
     "metadata": {},
     "output_type": "execute_result"
    }
   ],
   "source": [
    "# load sean data\n",
    "df_sean = pd.read_csv(path + 'inputs/df_sean.tsv',sep='\\t',index_col=0)\n",
    "df_sean = df_sean.set_index('t')\n",
    "    \n",
    "# grab current time points\n",
    "trange = df_sean.index.values\n",
    "step = 1 \n",
    "tr = np.arange(np.min(trange), np.max(trange), step)\n",
    "\n",
    "# create new index\n",
    "df_input = pd.DataFrame({'t': tr}).set_index('t')\n",
    "\n",
    "# merge with input df sean\n",
    "df_input = pd.concat([df_input, df_sean], axis=1)\n",
    "\n",
    "# interpolate\n",
    "for c in df_input.columns:\n",
    "    df_input[c] = df_input[c].interpolate()\n",
    "    # df_input[c] = df_input[c].interpolate(method='spline', order=2)\n",
    "\n",
    "df_input = df_input.reset_index()\n",
    "df_input.head()"
   ]
  },
  {
   "cell_type": "code",
   "execution_count": 18,
   "metadata": {},
   "outputs": [
    {
     "name": "stderr",
     "output_type": "stream",
     "text": [
      "[ Info: Started!\n"
     ]
    },
    {
     "name": "stdout",
     "output_type": "stream",
     "text": [
      "[0.0060235094*cos(x0*0.046392404)]\n",
      "['C*trig(C*x)']\n"
     ]
    },
    {
     "name": "stderr",
     "output_type": "stream",
     "text": [
      "[ Info: Started!\n"
     ]
    },
    {
     "name": "stdout",
     "output_type": "stream",
     "text": [
      "[0.012127933*0.82687324]\n",
      "['C']\n"
     ]
    },
    {
     "name": "stderr",
     "output_type": "stream",
     "text": [
      "[ Info: Started!\n"
     ]
    },
    {
     "name": "stdout",
     "output_type": "stream",
     "text": [
      "[-0.009952639*cos(exp(0.025635736*x0 + cos(0.15938684)))]\n",
      "['C*trig(C*e(C*x))']\n"
     ]
    },
    {
     "name": "stderr",
     "output_type": "stream",
     "text": [
      "[ Info: Started!\n"
     ]
    },
    {
     "name": "stdout",
     "output_type": "stream",
     "text": [
      "[cos(x0*0.0024418572*x0)*0.014871216]\n",
      "['C*trig(C*x^C)']\n"
     ]
    },
    {
     "name": "stderr",
     "output_type": "stream",
     "text": [
      "[ Info: Started!\n"
     ]
    },
    {
     "name": "stdout",
     "output_type": "stream",
     "text": [
      "[0.0835714423010227/(x0 + 11.288581)]\n",
      "['C/(xoC)']\n"
     ]
    },
    {
     "name": "stderr",
     "output_type": "stream",
     "text": [
      "[ Info: Started!\n"
     ]
    },
    {
     "name": "stdout",
     "output_type": "stream",
     "text": [
      "[(0.41729826*exp(-cos(x0*cos(1.3449903)) - cos(0.7682734)))*cos(cos(0.41729826))]\n",
      "['C*e(otrig(C*x))']\n"
     ]
    },
    {
     "name": "stderr",
     "output_type": "stream",
     "text": [
      "[ Info: Started!\n"
     ]
    },
    {
     "name": "stdout",
     "output_type": "stream",
     "text": [
      "[1.38535104553049*exp(-2.87058838823742*exp(cos(0.21902896*x0)))]\n",
      "['C*e(C*e(trig(C*x)))']\n"
     ]
    },
    {
     "name": "stderr",
     "output_type": "stream",
     "text": [
      "[ Info: Started!\n"
     ]
    },
    {
     "name": "stdout",
     "output_type": "stream",
     "text": [
      "[0.074429475*exp(-1.6029981*cos(0.22448415*x0))/cos(-0.51926017)]\n",
      "['C*e(C*trig(C*x))']\n"
     ]
    },
    {
     "name": "stderr",
     "output_type": "stream",
     "text": [
      "[ Info: Started!\n"
     ]
    },
    {
     "name": "stdout",
     "output_type": "stream",
     "text": [
      "[exp(-1.86933366782406*exp(cos(0.20116939*x0)))]\n",
      "['e(C*e(trig(C*x)))']\n"
     ]
    },
    {
     "name": "stderr",
     "output_type": "stream",
     "text": [
      "[ Info: Started!\n"
     ]
    },
    {
     "name": "stdout",
     "output_type": "stream",
     "text": [
      "[0.01285517*x0 + 0.018727876*cos(-0.45522028*(x0*cos(-0.22431234) + 0.0035585975))]\n",
      "['C*xoC*trig(C*xoC)']\n"
     ]
    },
    {
     "name": "stderr",
     "output_type": "stream",
     "text": [
      "[ Info: Started!\n"
     ]
    },
    {
     "name": "stdout",
     "output_type": "stream",
     "text": [
      "[1/(x0 + exp(exp(1/(x0 + cos(exp(x0)) - 0.23997667))))]\n",
      "['C/(xoe(e(C/(xotrig(e(x))oC))))']\n"
     ]
    },
    {
     "name": "stderr",
     "output_type": "stream",
     "text": [
      "[ Info: Started!\n"
     ]
    },
    {
     "name": "stdout",
     "output_type": "stream",
     "text": [
      "[0.719149321144615/(-0.22208834*x0 + exp(exp(cos(cos(0.23427866*x0)))))]\n",
      "['C/(C*xoe(e(trig(trig(C*x)))))']\n"
     ]
    },
    {
     "name": "stderr",
     "output_type": "stream",
     "text": [
      "[ Info: Started!\n"
     ]
    },
    {
     "name": "stdout",
     "output_type": "stream",
     "text": [
      "[x0/(exp(x0) + 1/cos(x0)) + 0.066974595]\n",
      "['x/(e(x)oC/trig(x))oC']\n"
     ]
    },
    {
     "name": "stderr",
     "output_type": "stream",
     "text": [
      "[ Info: Started!\n"
     ]
    },
    {
     "name": "stdout",
     "output_type": "stream",
     "text": [
      "[1/(x0 + exp(exp(cos(1/(x0 + 0.026527997)))))]\n",
      "['C/(xoe(e(trig(C/(xoC)))))']\n"
     ]
    },
    {
     "name": "stderr",
     "output_type": "stream",
     "text": [
      "[ Info: Started!\n"
     ]
    },
    {
     "name": "stdout",
     "output_type": "stream",
     "text": [
      "[1/(x0 + exp(exp(1/(x0 + x0 - 0.30705112 + 1/cos(x0)))))]\n",
      "['C/(xoe(e(trig(x)/((C*xoC)*trig(x)oC))))']\n"
     ]
    },
    {
     "name": "stderr",
     "output_type": "stream",
     "text": [
      "[ Info: Started!\n"
     ]
    },
    {
     "name": "stdout",
     "output_type": "stream",
     "text": [
      "[cos(cos(exp(cos(exp(0.23985593*x0*(-0.9296735))))*x0*1.1040229)) - 0.4269377]\n",
      "['trig(trig(C*x*e(trig(e(C*x)))))oC']\n"
     ]
    },
    {
     "name": "stderr",
     "output_type": "stream",
     "text": [
      "[ Info: Started!\n"
     ]
    },
    {
     "name": "stdout",
     "output_type": "stream",
     "text": [
      "[0.5996832*cos(cos(-0.12848802*x0))]\n",
      "['C*trig(trig(C*x))']\n"
     ]
    },
    {
     "name": "stderr",
     "output_type": "stream",
     "text": [
      "[ Info: Started!\n"
     ]
    },
    {
     "name": "stdout",
     "output_type": "stream",
     "text": [
      "[0.5776581*cos(-0.10272281*x0 + cos(0.079386145))]\n",
      "['C*trig(C*xoC)']\n"
     ]
    },
    {
     "name": "stderr",
     "output_type": "stream",
     "text": [
      "[ Info: Started!\n"
     ]
    },
    {
     "name": "stdout",
     "output_type": "stream",
     "text": [
      "[x0/(x0 + x0 + cos(x0*0.32783675))]\n",
      "['x/(C*xotrig(C*x))']\n"
     ]
    },
    {
     "name": "stderr",
     "output_type": "stream",
     "text": [
      "[ Info: Started!\n"
     ]
    },
    {
     "name": "stdout",
     "output_type": "stream",
     "text": [
      "[cos(-0.38894358 + 1/(x0 + cos(exp(x0))))*0.4866651]\n",
      "['C*trig(CoC/(xotrig(e(x))))']\n"
     ]
    },
    {
     "data": {
      "text/html": [
       "<div>\n",
       "<style scoped>\n",
       "    .dataframe tbody tr th:only-of-type {\n",
       "        vertical-align: middle;\n",
       "    }\n",
       "\n",
       "    .dataframe tbody tr th {\n",
       "        vertical-align: top;\n",
       "    }\n",
       "\n",
       "    .dataframe thead th {\n",
       "        text-align: right;\n",
       "    }\n",
       "</style>\n",
       "<table border=\"1\" class=\"dataframe\">\n",
       "  <thead>\n",
       "    <tr style=\"text-align: right;\">\n",
       "      <th></th>\n",
       "      <th>0</th>\n",
       "      <th>1</th>\n",
       "      <th>2</th>\n",
       "      <th>3</th>\n",
       "      <th>4</th>\n",
       "      <th>5</th>\n",
       "      <th>6</th>\n",
       "      <th>7</th>\n",
       "      <th>8</th>\n",
       "      <th>9</th>\n",
       "      <th>10</th>\n",
       "      <th>11</th>\n",
       "      <th>12</th>\n",
       "      <th>13</th>\n",
       "      <th>14</th>\n",
       "      <th>15</th>\n",
       "      <th>16</th>\n",
       "      <th>17</th>\n",
       "      <th>18</th>\n",
       "      <th>19</th>\n",
       "    </tr>\n",
       "  </thead>\n",
       "  <tbody>\n",
       "    <tr>\n",
       "      <th>0</th>\n",
       "      <td>C*trig(C*x)</td>\n",
       "      <td>C</td>\n",
       "      <td>C*trig(C*e(C*x))</td>\n",
       "      <td>C*trig(C*x^C)</td>\n",
       "      <td>C/(xoC)</td>\n",
       "      <td>C*e(otrig(C*x))</td>\n",
       "      <td>C*e(C*e(trig(C*x)))</td>\n",
       "      <td>C*e(C*trig(C*x))</td>\n",
       "      <td>e(C*e(trig(C*x)))</td>\n",
       "      <td>C*xoC*trig(C*xoC)</td>\n",
       "      <td>C/(xoe(e(C/(xotrig(e(x))oC))))</td>\n",
       "      <td>C/(C*xoe(e(trig(trig(C*x)))))</td>\n",
       "      <td>x/(e(x)oC/trig(x))oC</td>\n",
       "      <td>C/(xoe(e(trig(C/(xoC)))))</td>\n",
       "      <td>C/(xoe(e(trig(x)/((C*xoC)*trig(x)oC))))</td>\n",
       "      <td>trig(trig(C*x*e(trig(e(C*x)))))oC</td>\n",
       "      <td>C*trig(trig(C*x))</td>\n",
       "      <td>C*trig(C*xoC)</td>\n",
       "      <td>x/(C*xotrig(C*x))</td>\n",
       "      <td>C*trig(CoC/(xotrig(e(x))))</td>\n",
       "    </tr>\n",
       "  </tbody>\n",
       "</table>\n",
       "</div>"
      ],
      "text/plain": [
       "             0  1                 2              3        4                5  \\\n",
       "0  C*trig(C*x)  C  C*trig(C*e(C*x))  C*trig(C*x^C)  C/(xoC)  C*e(otrig(C*x))   \n",
       "\n",
       "                     6                 7                  8  \\\n",
       "0  C*e(C*e(trig(C*x)))  C*e(C*trig(C*x))  e(C*e(trig(C*x)))   \n",
       "\n",
       "                   9                              10  \\\n",
       "0  C*xoC*trig(C*xoC)  C/(xoe(e(C/(xotrig(e(x))oC))))   \n",
       "\n",
       "                              11                    12  \\\n",
       "0  C/(C*xoe(e(trig(trig(C*x)))))  x/(e(x)oC/trig(x))oC   \n",
       "\n",
       "                          13                                       14  \\\n",
       "0  C/(xoe(e(trig(C/(xoC)))))  C/(xoe(e(trig(x)/((C*xoC)*trig(x)oC))))   \n",
       "\n",
       "                                  15                 16             17  \\\n",
       "0  trig(trig(C*x*e(trig(e(C*x)))))oC  C*trig(trig(C*x))  C*trig(C*xoC)   \n",
       "\n",
       "                  18                          19  \n",
       "0  x/(C*xotrig(C*x))  C*trig(CoC/(xotrig(e(x))))  "
      ]
     },
     "execution_count": 18,
     "metadata": {},
     "output_type": "execute_result"
    }
   ],
   "source": [
    "# define list to store models\n",
    "t_encoded_models = {}\n",
    "t_models = {}\n",
    "\n",
    "nsim=1\n",
    "\n",
    "traj = list(df_input.columns)[1:]\n",
    "for t in traj:\n",
    "    models = []\n",
    "    encoded_models = []\n",
    "    for i in range(nsim):\n",
    "        model = PySRRegressor(\n",
    "            niterations=10,  # < Increase me for better results\n",
    "            binary_operators=[\"+\", \"*\"],\n",
    "            unary_operators=[\n",
    "                \"cos\",\n",
    "                \"exp\",\n",
    "                # \"sin\",\n",
    "                \"inv(x) = 1/x\", # Custom operator (julia syntax)\n",
    "            ],\n",
    "            # denoise=True,\n",
    "            extra_sympy_mappings={\"inv\": lambda x: 1 / x},\n",
    "            # ^ Define operator for SymPy as well\n",
    "            # elementwise_loss=\"loss(prediction, target) = (prediction - target)^2\",\n",
    "            temp_equation_file=True, # to delete temp files\n",
    "            elementwise_loss=\"L1DistLoss()\",\n",
    "            # ^ Custom loss function (julia syntax)\n",
    "        )\n",
    "        # This will set up the model for 40 iterations of the search code, which contains hundreds of thousands of mutations and equation evaluations.\n",
    "        \n",
    "        # Let's train this model on our dataset:\n",
    "        X = df_input['t'].values\n",
    "        y = df_input.loc[:,t].values\n",
    "\n",
    "        df = pd.DataFrame.from_dict({'x':X,'y':y})\n",
    "        df = df.dropna(how='any',axis=0)\n",
    "        X = df['x'].values.reshape(-1, 1)\n",
    "        y = df['y'].values\n",
    "        model.fit(X, y)\n",
    "        # Internally, this launches a Julia process which will do a multithreaded search for equations to fit the dataset.\n",
    "        # Equations will be printed during training, and once you are satisfied, you may quit early by hitting 'q' and then <enter>.\n",
    "        # After the model has been fit, you can run model.predict(X) to see the predictions on a given dataset using the automatically-selected expression, or, for example, model.predict(X, 3) to see the predictions of the 3rd equation.\n",
    "        #model.predict(y[3])\n",
    "        # You may run:\n",
    "        input_eq = model.sympy()\n",
    "        encoded_models.append(get_encoding(input_eq))\n",
    "        models.append(input_eq)\n",
    "        # print(sympy.simplify(model.sympy()))\n",
    "    print(models)\n",
    "    t_models[t] = models\n",
    "    t_encoded_models[t] = encoded_models\n",
    "    print(encoded_models)\n",
    "df = pd.DataFrame.from_dict(data=t_encoded_models)\n",
    "df.to_csv(path + 'inputs/sean_encoded_models.tsv', sep='\\t')\n",
    "\n",
    "df.head()"
   ]
  },
  {
   "cell_type": "code",
   "execution_count": 19,
   "metadata": {},
   "outputs": [
    {
     "name": "stdout",
     "output_type": "stream",
     "text": [
      "[0.00602350940000000, 0.00601702849794437, 0.00599759973783074, 0.00596526492780881, 0.00592009364815905, 0.00586218310156505, 0.00579165790394604, 0.00570866981629977, 0.00561339741813267, 0.00550604572318013, 0.00538684573824376, 0.00525605396609499, 0.00511395185351465, 0.00496084518565634, 0.00479706342803678, 0.00462295901756911, 0.00443890660416479, 0.00424530224453600, 0.00404256254993343, 0.00383112378965333, 0.00361144095224314]\n"
     ]
    }
   ],
   "source": [
    "# create dict of evaluations of sympy obj\n",
    "t_disc = {}\n",
    "trajs = list(t_models.keys())\n",
    "for k in trajs:\n",
    "    model = t_models[str(k)][0]\n",
    "    yr = []\n",
    "    x0 = sympy.symbols('x0')\n",
    "    xr = tr\n",
    "    for x in xr: \n",
    "        y_value = model.subs(x0, x)\n",
    "        yr.append(y_value.evalf())\n",
    "    t_disc[str(k)] = yr\n",
    "\n",
    "print(t_disc['0'])"
   ]
  },
  {
   "cell_type": "code",
   "execution_count": 21,
   "metadata": {},
   "outputs": [
    {
     "data": {
      "text/plain": [
       "<Axes: xlabel='t', ylabel='y'>"
      ]
     },
     "execution_count": 21,
     "metadata": {},
     "output_type": "execute_result"
    },
    {
     "data": {
      "image/png": "[encoded data removed]",
      "text/plain": [
       "<Figure size 640x480 with 1 Axes>"
      ]
     },
     "metadata": {},
     "output_type": "display_data"
    }
   ],
   "source": [
    "# plot model\n",
    "k = 5\n",
    "t = traj[k]\n",
    "x0 = df_input['t'].values\n",
    "\n",
    "#y = 0.012955242*np.cos(np.cos(2.33988868042568*np.exp(x0))) #1\n",
    "y1 = 0.006756823*x0*(np.exp(np.cos(1.3207278*x0 + 0.6175112)) + np.cos(x0) + 1.0573616)\n",
    "y2 = 0.14569463 + np.cos((x0 + x0)*0.11403156)*(-0.14370494)\n",
    "\n",
    "# plot the interp data (blue)\n",
    "sns.scatterplot(data=pd.DataFrame.from_dict({'t':df_input['t'].values,'y':df_input[t].values}), x='t', y='y')\n",
    "# plot the fitted sympy traj (orange)\n",
    "sns.scatterplot(data=pd.DataFrame.from_dict({'t':df_input['t'].values,'y':y2}), x='t', y='y')\n",
    "# plot the fitted sympy traj (green) that is overfitted (fitted on non interp data)\n",
    "sns.scatterplot(data=pd.DataFrame.from_dict({'t':df_input['t'].values,'y':y1}), x='t', y='y')\n",
    "# plot original data (red)\n",
    "sns.scatterplot(data=pd.DataFrame.from_dict({'t':df_sean.index.values,'y':df_sean[t].values}), x='t', y='y')\n"
   ]
  },
  {
   "cell_type": "code",
   "execution_count": null,
   "metadata": {},
   "outputs": [],
   "source": [
    "# try coherence\n",
    "# create matrix of coherences\n",
    "corr_matrix = np.empty([len(trajs),len(trajs)])\n",
    "corr_matrix[:] = np.nan\n",
    "\n",
    "for i in range(len(trajs)):\n",
    "    for j in range(i):\n",
    "        #f, Cxy = scipy.signal.coherence(t_disc[str(i)], t_disc[str(j)])\n",
    "        #cm[i,j] = np.real(np.mean(Cxy))\n",
    "        r, p = scipy.stats.spearmanr(t_disc[str(i)], t_disc[str(j)], nan_policy='omit')\n",
    "        corr_matrix[i,j] = r\n",
    "# cm\n",
    "plt.figure(figsize=(8, 6))\n",
    "plt.imshow(corr_matrix, cmap='coolwarm', interpolation='nearest')\n",
    "plt.colorbar(label='Correlation Coefficient')\n",
    "plt.title('Correlation Matrix Heatmap')\n",
    "plt.xticks(range(len(trajs)), trajs, rotation=45)\n",
    "plt.yticks(range(len(trajs)), trajs)\n",
    "plt.tight_layout()\n",
    "plt.show()"
   ]
  },
  {
   "cell_type": "code",
   "execution_count": null,
   "metadata": {},
   "outputs": [],
   "source": [
    "# t_encoded_models\n",
    "# pd.Series(encoded_models).value_counts()\n",
    "df = pd.read_csv(path + 'inputs/sean_encoded_models.tsv', sep='\\t', index_col=0)\n",
    "\n",
    "# dict to store mode result\n",
    "assignment = {}\n",
    "\n",
    "# get value counts per col and pick top\n",
    "for t in list(df.columns.values):\n",
    "    # Count occurrences of each string\n",
    "    counts = Counter(df.loc[:,t])\n",
    "    \n",
    "    # Get the most common string\n",
    "    assignment[t] = counts.most_common(1)[0][0]\n",
    "\n",
    "assignment"
   ]
  },
  {
   "cell_type": "code",
   "execution_count": null,
   "metadata": {},
   "outputs": [],
   "source": [
    "batches = [\n",
    "    [1,2,3,4,5],\n",
    "    [6,7,8,9],\n",
    "    [10],\n",
    "    [11,12,13,14,15],\n",
    "    [16,17,18,19,20]\n",
    "\n",
    "]\n",
    "models = []\n",
    "for batch in batches:\n",
    "    model_list = []\n",
    "    for b in batch:\n",
    "        model_list.append(assignment[str(b-1)])\n",
    "    models.append(model_list)\n",
    "\n",
    "for batch in models:\n",
    "    print(long_substr(batch))\n",
    "\n"
   ]
  },
  {
   "cell_type": "code",
   "execution_count": null,
   "metadata": {},
   "outputs": [],
   "source": []
  }
 ],
 "metadata": {
  "kernelspec": {
   "display_name": "Python 3 (ipykernel)",
   "language": "python",
   "name": "python3"
  },
  "language_info": {
   "codemirror_mode": {
    "name": "ipython",
    "version": 3
   },
   "file_extension": ".py",
   "mimetype": "text/x-python",
   "name": "python",
   "nbconvert_exporter": "python",
   "pygments_lexer": "ipython3",
   "version": "3.11.7"
  }
 },
 "nbformat": 4,
 "nbformat_minor": 4
}
